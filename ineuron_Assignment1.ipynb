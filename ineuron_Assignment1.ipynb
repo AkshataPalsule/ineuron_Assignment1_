{
  "nbformat": 4,
  "nbformat_minor": 0,
  "metadata": {
    "colab": {
      "name": "ineuron_Assignment1.ipynb",
      "provenance": [],
      "collapsed_sections": []
    },
    "kernelspec": {
      "name": "python3",
      "display_name": "Python 3"
    },
    "language_info": {
      "name": "python"
    }
  },
  "cells": [
    {
      "cell_type": "code",
      "execution_count": null,
      "metadata": {
        "id": "kNAmYDwmHx2K"
      },
      "outputs": [],
      "source": [
        "## Write a program in python for given range of number divsible by 7 and NOT multiple of 5"
      ]
    },
    {
      "cell_type": "code",
      "source": [
        "numbers=[]\n",
        "for i in range(2000,3201):\n",
        "  if (i%7==0) and (i%5!=0):\n",
        "    numbers.append(str(i))\n",
        "numbers    "
      ],
      "metadata": {
        "colab": {
          "base_uri": "https://localhost:8080/"
        },
        "id": "SUDHhh5UIfHS",
        "outputId": "b94a8ccb-77be-44fa-ee75-d2baa6a12ee9"
      },
      "execution_count": 4,
      "outputs": [
        {
          "output_type": "execute_result",
          "data": {
            "text/plain": [
              "['2002',\n",
              " '2009',\n",
              " '2016',\n",
              " '2023',\n",
              " '2037',\n",
              " '2044',\n",
              " '2051',\n",
              " '2058',\n",
              " '2072',\n",
              " '2079',\n",
              " '2086',\n",
              " '2093',\n",
              " '2107',\n",
              " '2114',\n",
              " '2121',\n",
              " '2128',\n",
              " '2142',\n",
              " '2149',\n",
              " '2156',\n",
              " '2163',\n",
              " '2177',\n",
              " '2184',\n",
              " '2191',\n",
              " '2198',\n",
              " '2212',\n",
              " '2219',\n",
              " '2226',\n",
              " '2233',\n",
              " '2247',\n",
              " '2254',\n",
              " '2261',\n",
              " '2268',\n",
              " '2282',\n",
              " '2289',\n",
              " '2296',\n",
              " '2303',\n",
              " '2317',\n",
              " '2324',\n",
              " '2331',\n",
              " '2338',\n",
              " '2352',\n",
              " '2359',\n",
              " '2366',\n",
              " '2373',\n",
              " '2387',\n",
              " '2394',\n",
              " '2401',\n",
              " '2408',\n",
              " '2422',\n",
              " '2429',\n",
              " '2436',\n",
              " '2443',\n",
              " '2457',\n",
              " '2464',\n",
              " '2471',\n",
              " '2478',\n",
              " '2492',\n",
              " '2499',\n",
              " '2506',\n",
              " '2513',\n",
              " '2527',\n",
              " '2534',\n",
              " '2541',\n",
              " '2548',\n",
              " '2562',\n",
              " '2569',\n",
              " '2576',\n",
              " '2583',\n",
              " '2597',\n",
              " '2604',\n",
              " '2611',\n",
              " '2618',\n",
              " '2632',\n",
              " '2639',\n",
              " '2646',\n",
              " '2653',\n",
              " '2667',\n",
              " '2674',\n",
              " '2681',\n",
              " '2688',\n",
              " '2702',\n",
              " '2709',\n",
              " '2716',\n",
              " '2723',\n",
              " '2737',\n",
              " '2744',\n",
              " '2751',\n",
              " '2758',\n",
              " '2772',\n",
              " '2779',\n",
              " '2786',\n",
              " '2793',\n",
              " '2807',\n",
              " '2814',\n",
              " '2821',\n",
              " '2828',\n",
              " '2842',\n",
              " '2849',\n",
              " '2856',\n",
              " '2863',\n",
              " '2877',\n",
              " '2884',\n",
              " '2891',\n",
              " '2898',\n",
              " '2912',\n",
              " '2919',\n",
              " '2926',\n",
              " '2933',\n",
              " '2947',\n",
              " '2954',\n",
              " '2961',\n",
              " '2968',\n",
              " '2982',\n",
              " '2989',\n",
              " '2996',\n",
              " '3003',\n",
              " '3017',\n",
              " '3024',\n",
              " '3031',\n",
              " '3038',\n",
              " '3052',\n",
              " '3059',\n",
              " '3066',\n",
              " '3073',\n",
              " '3087',\n",
              " '3094',\n",
              " '3101',\n",
              " '3108',\n",
              " '3122',\n",
              " '3129',\n",
              " '3136',\n",
              " '3143',\n",
              " '3157',\n",
              " '3164',\n",
              " '3171',\n",
              " '3178',\n",
              " '3192',\n",
              " '3199']"
            ]
          },
          "metadata": {},
          "execution_count": 4
        }
      ]
    },
    {
      "cell_type": "code",
      "source": [
        ""
      ],
      "metadata": {
        "id": "K3P2BRm0OQxH"
      },
      "execution_count": null,
      "outputs": []
    },
    {
      "cell_type": "code",
      "source": [
        "## Take user first name and last name and then print it in reverse order "
      ],
      "metadata": {
        "id": "VKFRWWtWJWCS"
      },
      "execution_count": null,
      "outputs": []
    },
    {
      "cell_type": "code",
      "source": [
        "fname=input('Enter your first name:')\n",
        "lname=input('Enter your last name:')\n",
        "\n",
        "print(\"Your name is \" + lname + \" \" + fname)"
      ],
      "metadata": {
        "colab": {
          "base_uri": "https://localhost:8080/"
        },
        "id": "VCUKQoVCKLcE",
        "outputId": "132271cc-67da-4846-9a86-c7c0313d6569"
      },
      "execution_count": 7,
      "outputs": [
        {
          "output_type": "stream",
          "name": "stdout",
          "text": [
            "Enter your first name:Akshata\n",
            "Enter your last name:Palsule\n",
            "Your name is Palsule Akshata\n"
          ]
        }
      ]
    },
    {
      "cell_type": "code",
      "source": [
        "## Volume of a sphere with diameter 12"
      ],
      "metadata": {
        "id": "oBJmZIqdKyIv"
      },
      "execution_count": null,
      "outputs": []
    },
    {
      "cell_type": "code",
      "source": [
        "# Radius is half of diameter so we need to find radius first\n",
        "d=12\n",
        "r= d/2\n",
        "#While writing formula we need to consider pi value as 22/7\n",
        "\n",
        "Volume=(4/3*22/7*r*r*r)\n",
        "Volume"
      ],
      "metadata": {
        "colab": {
          "base_uri": "https://localhost:8080/"
        },
        "id": "4CiHEQZXK4N0",
        "outputId": "fb07092c-cd5e-47dd-d7b5-1012849314b6"
      },
      "execution_count": 10,
      "outputs": [
        {
          "output_type": "execute_result",
          "data": {
            "text/plain": [
              "905.1428571428573"
            ]
          },
          "metadata": {},
          "execution_count": 10
        }
      ]
    }
  ]
}